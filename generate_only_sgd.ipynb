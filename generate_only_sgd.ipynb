{
 "cells": [
  {
   "cell_type": "code",
   "execution_count": 29,
   "metadata": {},
   "outputs": [],
   "source": [
    "from transformers import GPT2LMHeadModel, GPT2Tokenizer\n",
    "\n",
    "model_checkpoint = \"output/sgd-distilgpt2/checkpoint-270000\"\n",
    "\n",
    "tokenizer = GPT2Tokenizer.from_pretrained(model_checkpoint)\n",
    "tokenizer.pad_token_id = 0\n",
    "tokenizer.padding_side = \"left\"\n",
    "model = GPT2LMHeadModel.from_pretrained(model_checkpoint)\n",
    "model.eval()\n",
    "\n",
    "break_tokens = tokenizer.encode(tokenizer.eos_token)\n",
    "MAX_LEN = model.config.n_ctx\n",
    "\n",
    "data = (\n",
    "    open(\"resources/sgd_0_1_simpletod/validation_sgd\", \"r\")\n",
    "    .read()\n",
    "    .splitlines()[:4]\n",
    ")\n",
    "data = [d.split(\"<|action|>\")[0].strip() for d in data]\n",
    "inputs = tokenizer(data, return_tensors=\"pt\", padding=True)\n"
   ]
  },
  {
   "cell_type": "code",
   "execution_count": 31,
   "metadata": {},
   "outputs": [],
   "source": [
    "output_sequences = model.generate(\n",
    "    input_ids=inputs[\"input_ids\"],\n",
    "    attention_mask=inputs[\"attention_mask\"],\n",
    "    do_sample=False,\n",
    "    max_length=MAX_LEN,\n",
    "    pad_token_id=0,\n",
    ")"
   ]
  },
  {
   "cell_type": "code",
   "execution_count": 34,
   "metadata": {},
   "outputs": [
    {
     "name": "stdout",
     "output_type": "stream",
     "text": [
      "[('bus', 'request', 'day'), ('bus', 'request', 'depart'), ('bus', 'request', 'travelers')]\n",
      "[('bus', 'request', 'depart'), ('bus', 'request', 'dest')]\n",
      "[('bus', 'request', 'depart'), ('bus', 'request', 'dest')]\n",
      "[('bus', 'confirm', 'day'), ('bus', 'confirm', 'depart'), ('bus', 'confirm', 'dest'), ('bus', 'confirm', 'time'), ('bus', 'confirm', 'travelers')]\n"
     ]
    }
   ],
   "source": [
    "def get_action(sent):\n",
    "    if \"<|action|>\" not in sent:\n",
    "        return []\n",
    "    elif \"<|belief|>\" in sent:\n",
    "        tmp = (\n",
    "            sent.split(\"<|belief|>\")[-1]\n",
    "            .split(\"<|response|>\")[0]\n",
    "            .split(\"<|action|>\")[-1]\n",
    "            .strip()\n",
    "        )\n",
    "    elif \"<|action|>\" in sent:\n",
    "        tmp = sent.split(\"<|response|>\")[0].split(\"<|action|>\")[-1].strip()\n",
    "    else:\n",
    "        return []\n",
    "    tmp = tmp.strip(\" .,\")\n",
    "    tmp = tmp.replace(\"<|endofaction|>\", \"\")\n",
    "    tmp = tmp.replace(\"<|endoftext|>\", \"\")\n",
    "    action = tmp.split(\",\")\n",
    "    new_action = []\n",
    "    for act in action:\n",
    "        if act == \"\":\n",
    "            continue\n",
    "        act = act.strip(\" .,\")\n",
    "        if act not in new_action:\n",
    "            act = act.split()\n",
    "            if len(act) == 3:\n",
    "                new_action.append(tuple(act))\n",
    "    return new_action\n",
    "\n",
    "\n",
    "decoded_outputs = tokenizer.batch_decode(output_sequences, skip_special_tokens=True)\n",
    "for output in decoded_outputs:\n",
    "    print(sorted(get_action(output)))\n"
   ]
  }
 ],
 "metadata": {
  "kernelspec": {
   "display_name": "simpletod",
   "language": "python",
   "name": "python3"
  },
  "language_info": {
   "codemirror_mode": {
    "name": "ipython",
    "version": 3
   },
   "file_extension": ".py",
   "mimetype": "text/x-python",
   "name": "python",
   "nbconvert_exporter": "python",
   "pygments_lexer": "ipython3",
   "version": "3.8.15"
  },
  "orig_nbformat": 4,
  "vscode": {
   "interpreter": {
    "hash": "41ec1073c05d96649f247d7cbb6eab5e6e460b0fd45cc502b25d00b76332843f"
   }
  }
 },
 "nbformat": 4,
 "nbformat_minor": 2
}
